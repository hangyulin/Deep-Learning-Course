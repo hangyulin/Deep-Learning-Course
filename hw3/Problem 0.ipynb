{
 "cells": [
  {
   "cell_type": "markdown",
   "metadata": {},
   "source": [
    "# Problem 0 - Recurrent Neural Networks (10 points)"
   ]
  },
  {
   "cell_type": "markdown",
   "metadata": {},
   "source": [
    "## Part 1 - Finding Weights"
   ]
  },
  {
   "cell_type": "code",
   "execution_count": 1,
   "metadata": {},
   "outputs": [],
   "source": [
    "import numpy as np"
   ]
  },
  {
   "cell_type": "code",
   "execution_count": 2,
   "metadata": {},
   "outputs": [],
   "source": [
    "# Function to pad 0 and transform into input and call rnn\n",
    "def run_simple_rnn(binary_1, binary_2):\n",
    "    # Determine which binary input is larger\n",
    "    if int(binary_1, 2) > int(binary_2, 2):\n",
    "        # Pad 0 on the left\n",
    "        binary_1 = \"0\" + binary_1\n",
    "        binary_2 = \"0\" * (len(binary_1) - len(binary_2)) + binary_2\n",
    "    else:\n",
    "        # Pad 0 on the left\n",
    "        binary_2 = \"0\" + binary_2\n",
    "        binary_1 = \"0\" * (len(binary_2) - len(binary_1)) + binary_1\n",
    "    \n",
    "    input_1, input_2 = binary_1[::-1], binary_2[::-1]\n",
    "    #Turn the inputs into array of int for the rnn model\n",
    "    input_1 = np.array([x for x in input_1], dtype = int)\n",
    "    input_2 = np.array([x for x in input_2], dtype = int)\n",
    "    \n",
    "    # Call the rnn\n",
    "    return simple_rnn(input_1, input_2)"
   ]
  },
  {
   "cell_type": "code",
   "execution_count": 3,
   "metadata": {},
   "outputs": [],
   "source": [
    "def simple_rnn(input_1, input_2):\n",
    "    # Combine the two inputs into one matrix\n",
    "    x = np.array([input_1, input_2]).T\n",
    "    \n",
    "    # The activation function that was given\n",
    "    activation_function_y_t = lambda a: 1 if a > 0 else 0\n",
    "    activation_function_h_t = lambda a: np.array([1 if x > 0 else 0 for x in a])\n",
    "    # The y_t function that was given\n",
    "    y_t = lambda v, h_t_0, b_y: v.T@h_t_0 + b_y\n",
    "    # The h_t layer function that was given\n",
    "    h_t = lambda U, x_t, W, h_t_1, b_h: U@x_t + W@h_t_1 + b_h\n",
    "\n",
    "    # Here are the parameters I solved by hand\n",
    "    # ------------------------------------- #\n",
    "    h_0 = np.array([0,0,0])\n",
    "    U = np.array([[1,1],[1,1],[1,1]])\n",
    "    W = np.array([[0,1,0],[0,1,0],[0,1,0]])\n",
    "    b_h = np.array([0,-1,-2])\n",
    "    v = np.array([1,-1,1])\n",
    "    b_y = 0\n",
    "    # ------------------------------------- #\n",
    "    \n",
    "    output = []\n",
    "    h_t_a = h_0\n",
    "    # Run it through all the x with loop, while storing the last hidden layer output\n",
    "    for i in range(len(x)):\n",
    "        h_t_1 = h_t(U, x[i], W, h_t_a, b_h)\n",
    "        cur_activate_h = activation_function_h_t(h_t_1)\n",
    "        h_t_a = cur_activate_h\n",
    "        \n",
    "        cur_y_t = y_t(v, cur_activate_h, b_y)\n",
    "        cur_activate_y = activation_function_y_t(cur_y_t)\n",
    "        output.append(cur_activate_y)\n",
    "    \n",
    "    # Combine them to return a string of the output\n",
    "    return \"\".join(np.array(output, dtype = str))[::-1]"
   ]
  },
  {
   "cell_type": "markdown",
   "metadata": {},
   "source": [
    "### Running rnn on given example"
   ]
  },
  {
   "cell_type": "code",
   "execution_count": 4,
   "metadata": {},
   "outputs": [
    {
     "data": {
      "text/plain": [
       "'1011001'"
      ]
     },
     "execution_count": 4,
     "metadata": {},
     "output_type": "execute_result"
    }
   ],
   "source": [
    "# Running the example that was given\n",
    "run_simple_rnn(\"100111\", \"110010\")"
   ]
  },
  {
   "cell_type": "markdown",
   "metadata": {},
   "source": [
    "### More testing"
   ]
  },
  {
   "cell_type": "code",
   "execution_count": 5,
   "metadata": {},
   "outputs": [],
   "source": [
    "# More testing with binary numbers I generated randomly\n",
    "def test():\n",
    "    num_1 = np.random.randint(100)\n",
    "    num_2 = np.random.randint(100)\n",
    "    solution = num_1 + num_2\n",
    "    binary_num_1 = \"{0:b}\".format(num_1)\n",
    "    binary_num_2 = \"{0:b}\".format(num_2)\n",
    "    result = run_simple_rnn(binary_num_1, binary_num_2)\n",
    "    result_int = int(result, 2)\n",
    "    assert(solution == result_int)\n",
    "    print(\"-- -- -- -- -- --\")\n",
    "    print(num_1, \"+\",  num_2, \"=\", result_int )\n",
    "    print(\"binary:\", binary_num_1, \"+\", binary_num_2, \"=\", result)"
   ]
  },
  {
   "cell_type": "code",
   "execution_count": 6,
   "metadata": {},
   "outputs": [
    {
     "name": "stdout",
     "output_type": "stream",
     "text": [
      "-- -- -- -- -- --\n",
      "17 + 88 = 105\n",
      "binary: 10001 + 1011000 = 01101001\n",
      "-- -- -- -- -- --\n",
      "64 + 95 = 159\n",
      "binary: 1000000 + 1011111 = 10011111\n",
      "-- -- -- -- -- --\n",
      "85 + 30 = 115\n",
      "binary: 1010101 + 11110 = 01110011\n",
      "-- -- -- -- -- --\n",
      "23 + 59 = 82\n",
      "binary: 10111 + 111011 = 1010010\n",
      "-- -- -- -- -- --\n",
      "55 + 7 = 62\n",
      "binary: 110111 + 111 = 0111110\n"
     ]
    }
   ],
   "source": [
    "# Test it 5 times\n",
    "for i in range(5):\n",
    "    test()"
   ]
  }
 ],
 "metadata": {
  "kernelspec": {
   "display_name": "Python 3",
   "language": "python",
   "name": "python3"
  },
  "language_info": {
   "codemirror_mode": {
    "name": "ipython",
    "version": 3
   },
   "file_extension": ".py",
   "mimetype": "text/x-python",
   "name": "python",
   "nbconvert_exporter": "python",
   "pygments_lexer": "ipython3",
   "version": "3.7.6"
  }
 },
 "nbformat": 4,
 "nbformat_minor": 4
}
