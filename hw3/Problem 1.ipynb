{
 "cells": [
  {
   "cell_type": "markdown",
   "metadata": {},
   "source": [
    "# Problem 1 - GRU for Sentiment Analysis"
   ]
  },
  {
   "cell_type": "code",
   "execution_count": 1,
   "metadata": {},
   "outputs": [],
   "source": [
    "import pandas as pd\n",
    "import numpy as np\n",
    "import string\n",
    "import torch\n",
    "import torch.nn.functional as F\n",
    "import torch.nn as nn\n",
    "import torch.optim as optim\n",
    "from torch.utils.data import TensorDataset, DataLoader\n",
    "import matplotlib.pyplot as plt"
   ]
  },
  {
   "cell_type": "code",
   "execution_count": 2,
   "metadata": {},
   "outputs": [
    {
     "name": "stdout",
     "output_type": "stream",
     "text": [
      "True\n",
      "Quadro RTX 5000 with Max-Q Design\n"
     ]
    }
   ],
   "source": [
    "# Prepare torch gpu\n",
    "print(torch.cuda.is_available())\n",
    "print(torch.cuda.get_device_name(0))\n",
    "# Using GPU device\n",
    "gpu_device = torch.device(\"cuda:0\")"
   ]
  },
  {
   "cell_type": "markdown",
   "metadata": {},
   "source": [
    "## Part 1 - Preprocessing (5 points)"
   ]
  },
  {
   "cell_type": "code",
   "execution_count": 3,
   "metadata": {},
   "outputs": [],
   "source": [
    "# Loading data\n",
    "train_pos_load = pd.read_table(\"data/train_pos_merged.txt\", header = None, sep = \"\\n\").values\n",
    "train_neg_load = pd.read_table(\"data/train_neg_merged.txt\", header = None, sep = \"\\n\").values\n",
    "\n",
    "test_pos_load = pd.read_table(\"data/test_pos_merged.txt\", header = None, sep = \"\\n\").values\n",
    "test_neg_load = pd.read_table(\"data/test_neg_merged.txt\", header = None, sep = \"\\n\").values"
   ]
  },
  {
   "cell_type": "code",
   "execution_count": 4,
   "metadata": {},
   "outputs": [
    {
     "data": {
      "text/plain": [
       "(1500, 1500, 1500, 1500)"
      ]
     },
     "execution_count": 4,
     "metadata": {},
     "output_type": "execute_result"
    }
   ],
   "source": [
    "# Check the size of each dataset\n",
    "len(train_neg_load), len(train_neg_load), len(test_pos_load), len(test_neg_load)"
   ]
  },
  {
   "cell_type": "code",
   "execution_count": 5,
   "metadata": {},
   "outputs": [],
   "source": [
    "# Pipeline function to strip punctuation, build vocab list, and return 400 fix length vector for each\n",
    "def pre_processing(train_pos, train_neg, test_pos, test_neg):\n",
    "    # Create the labels for train set and combine into one array later\n",
    "    # Where 1 is positive and 0 is negative\n",
    "    train_labels = np.zeros(len(train_pos) + len(train_neg))\n",
    "    train_labels[:len(train_pos)] = 1 \n",
    "    \n",
    "    # Create the labels for test set and combine into one array later\n",
    "    # Where 1 is positive and 0 is negative\n",
    "    test_labels = np.zeros(len(test_pos) + len(test_neg))\n",
    "    test_labels[:len(train_pos)] = 1\n",
    "    \n",
    "    strip_punc = str.maketrans('', '', string.punctuation)\n",
    "    # Strip punctuation and combine train set positive and negative\n",
    "    train_data = []\n",
    "    for data in train_pos:\n",
    "        train_data.append(np.array(data[0].translate(strip_punc).split()))\n",
    "    for data in train_neg:\n",
    "        train_data.append(np.array(data[0].translate(strip_punc).split()))\n",
    "    train_data = np.array(train_data)\n",
    "    # For test set\n",
    "    test_data = []\n",
    "    for data in test_pos:\n",
    "        test_data.append(np.array(data[0].translate(strip_punc).split()))\n",
    "    for data in test_neg:\n",
    "        test_data.append(np.array(data[0].translate(strip_punc).split()))\n",
    "    test_data = np.array(test_data)\n",
    "    \n",
    "    # Build dictionary and vector of the training and testing data at once\n",
    "    word_dictionary = {\"\":0}\n",
    "    word_count = 1\n",
    "    training_vec = []\n",
    "    # Only building words from the train data\n",
    "    for i in range(len(train_data)):\n",
    "        temp_review_vec = []\n",
    "        # Only using the first 400 words\n",
    "        for j in range(min(len(train_data[i]), 400)):\n",
    "            if train_data[i][j] not in word_dictionary:\n",
    "                word_dictionary[train_data[i][j]] = word_count\n",
    "                word_count += 1\n",
    "            temp_review_vec.append(word_dictionary[train_data[i][j]])\n",
    "        # Pad 0's at the begining if less than 400 words\n",
    "        while len(temp_review_vec) < 400:\n",
    "            temp_review_vec.insert(0, 0)\n",
    "        training_vec.append(np.array(temp_review_vec))\n",
    "    training_vec = np.array(training_vec)\n",
    "            \n",
    "    # Now making the vector for test data\n",
    "    testing_vec = []\n",
    "    for i in range(len(test_data)):\n",
    "        temp_review_vec = []\n",
    "        # User all words in review for loop, break if more than 400 in dictionary words\n",
    "        for j in range(len(test_data[i])):\n",
    "            if test_data[i][j] not in word_dictionary:\n",
    "                continue\n",
    "            temp_review_vec.append(word_dictionary[test_data[i][j]])\n",
    "            # Break loop if reach 400 word limit\n",
    "            if len(temp_review_vec) == 400:\n",
    "                break\n",
    "        # Pad 0's at the begining if less than 400 words\n",
    "        while len(temp_review_vec) < 400:\n",
    "            temp_review_vec.insert(0, 0)\n",
    "        testing_vec.append(np.array(temp_review_vec))\n",
    "    testing_vec = np.array(testing_vec)\n",
    "    \n",
    "    return word_dictionary, training_vec, train_labels, testing_vec, test_labels"
   ]
  },
  {
   "cell_type": "code",
   "execution_count": 6,
   "metadata": {},
   "outputs": [],
   "source": [
    "# Run the pipeline and store everything in numpy\n",
    "word_dict, training_vec, training_label, testing_vec, testing_label = pre_processing(train_pos_load,\n",
    "                                                                                    train_neg_load,\n",
    "                                                                                    test_pos_load,\n",
    "                                                                                    test_neg_load)"
   ]
  },
  {
   "cell_type": "code",
   "execution_count": 7,
   "metadata": {},
   "outputs": [
    {
     "name": "stdout",
     "output_type": "stream",
     "text": [
      "There are 40096 words in the word dictionary\n"
     ]
    }
   ],
   "source": [
    "print(\"There are\", len(word_dict), \"words in the word dictionary\")"
   ]
  },
  {
   "cell_type": "code",
   "execution_count": 8,
   "metadata": {},
   "outputs": [],
   "source": [
    "# Put data into pytorch\n",
    "train_data = TensorDataset(torch.from_numpy(training_vec).type(torch.LongTensor),\n",
    "                           torch.from_numpy(training_label).type(torch.LongTensor))\n",
    "train_loader = DataLoader(train_data, shuffle = True, batch_size = 64)\n",
    "\n",
    "test_data = TensorDataset(torch.from_numpy(testing_vec).type(torch.LongTensor),\n",
    "                          torch.from_numpy(testing_label).type(torch.LongTensor))\n",
    "test_loader = DataLoader(test_data, shuffle = True, batch_size = 64)"
   ]
  },
  {
   "cell_type": "code",
   "execution_count": 9,
   "metadata": {},
   "outputs": [],
   "source": [
    "# The reverse dictionary look up\n",
    "word_lookup = {a: b for b, a in word_dict.items()}"
   ]
  },
  {
   "cell_type": "code",
   "execution_count": 10,
   "metadata": {},
   "outputs": [],
   "source": [
    "# A function to revert a tensor back to sentense\n",
    "def revert_sentence(data_tensor):\n",
    "    numpy_vector = data_tensor.cpu().detach().numpy()\n",
    "    sentence_vec = np.delete(numpy_vector, np.where(numpy_vector == 0))\n",
    "    sentence = []\n",
    "    for each in sentence_vec:\n",
    "        sentence.append(word_lookup[each])\n",
    "    return \" \".join(sentence)"
   ]
  },
  {
   "cell_type": "markdown",
   "metadata": {},
   "source": [
    "## Part 2 - Build A Binary Prediction RNN with GRU (10 points)"
   ]
  },
  {
   "cell_type": "code",
   "execution_count": 11,
   "metadata": {},
   "outputs": [],
   "source": [
    "class rnn_gru(nn.Module):\n",
    "    def __init__(self):\n",
    "        super(rnn_gru, self).__init__()\n",
    "        self.embedding = nn.Embedding(len(word_dict), 256)\n",
    "        self.gru = nn.GRU(256, 128, 3, batch_first = True)\n",
    "        self.fc = nn.Linear(128, 2)\n",
    "        self.sigmoid = nn.Sigmoid()\n",
    "        \n",
    "    def forward(self, x):\n",
    "        out = self.embedding(x)\n",
    "        out = self.gru(out)\n",
    "        # Taking the result from gru, index 1\n",
    "        out = out[1][-1]\n",
    "        out = self.fc(out)\n",
    "        out = self.sigmoid(out)\n",
    "        return out\n",
    "    \n",
    "    def predict(self, x):\n",
    "        out = self.forward(x)\n",
    "        _, preds = torch.max(out, 1)\n",
    "        return preds"
   ]
  },
  {
   "cell_type": "code",
   "execution_count": 12,
   "metadata": {},
   "outputs": [
    {
     "data": {
      "text/plain": [
       "rnn_gru(\n",
       "  (embedding): Embedding(40096, 256)\n",
       "  (gru): GRU(256, 128, num_layers=3, batch_first=True)\n",
       "  (fc): Linear(in_features=128, out_features=2, bias=True)\n",
       "  (sigmoid): Sigmoid()\n",
       ")"
      ]
     },
     "execution_count": 12,
     "metadata": {},
     "output_type": "execute_result"
    }
   ],
   "source": [
    "gru_model = rnn_gru()\n",
    "gru_model.to(gpu_device)"
   ]
  },
  {
   "cell_type": "code",
   "execution_count": 13,
   "metadata": {},
   "outputs": [],
   "source": [
    "# Set the cross-entrophy criterion\n",
    "gru_cross_entro = nn.CrossEntropyLoss()\n",
    "\n",
    "# Observe that all parameters are being optimized\n",
    "gru_sgd = optim.Adam(gru_model.parameters(), lr = 0.01)"
   ]
  },
  {
   "cell_type": "code",
   "execution_count": 14,
   "metadata": {},
   "outputs": [],
   "source": [
    "# Training function from my previous assignment, changing it to binary \n",
    "# Train function taken from my own train function from question 2\n",
    "def train_model(model, dataloader_train, dataloader_test, optimizer, criterion, num_epochs):    \n",
    "    # Run all the epochs\n",
    "    all_train_acc = []\n",
    "    all_train_loss = []\n",
    "    all_test_acc = []\n",
    "    all_test_loss = []\n",
    "    for epoch in range(num_epochs):\n",
    "        # Run both train and test stage in each epoch\n",
    "        dataset_sizes = {\"train\" : len(dataloader_train.dataset.tensors[0]), \"test\" : len(dataloader_test.dataset.tensors[0])}\n",
    "        if (epoch + 1) % 2 == 0:\n",
    "            print(\"Epoch\", str(epoch + 1), \"/\", str(num_epochs))\n",
    "        for stage in ['train', 'test']:\n",
    "            if stage == 'train':\n",
    "                model.train()\n",
    "                data_loader = dataloader_train\n",
    "            else:\n",
    "                model.eval()\n",
    "                data_loader = dataloader_test\n",
    "                \n",
    "            run_correct = 0\n",
    "            run_loss = 0.0\n",
    "            \n",
    "            # Load data from dataloader\n",
    "            for i, data in enumerate(data_loader, 0):\n",
    "                inputs, labels = data[0].to(gpu_device), data[1].to(gpu_device)\n",
    "\n",
    "                optimizer.zero_grad()\n",
    "                \n",
    "                if stage == 'train':\n",
    "                    outputs = model(inputs)\n",
    "                    _, preds = torch.max(outputs, 1)\n",
    "                    loss = criterion(outputs, labels)\n",
    "\n",
    "                    # Change weights in train stage\n",
    "                    loss.backward()\n",
    "                    optimizer.step()\n",
    "                else:\n",
    "                    with torch.no_grad():\n",
    "                        outputs = model(inputs)\n",
    "                        _, preds = torch.max(outputs, 1)\n",
    "                        loss = criterion(outputs, labels)\n",
    "\n",
    "                # Add to loss and accuracy\n",
    "                run_correct += torch.sum(preds == labels)\n",
    "                run_loss += loss.item()\n",
    "\n",
    "            epoch_acc = run_correct.item() / dataset_sizes[stage]\n",
    "            epoch_loss = run_loss / dataset_sizes[stage]\n",
    "            \n",
    "            if stage == 'train':\n",
    "                all_train_acc.append(epoch_acc)\n",
    "                all_train_loss.append(epoch_loss)\n",
    "            else:\n",
    "                all_test_acc.append(epoch_acc)\n",
    "                all_test_loss.append(epoch_loss)\n",
    "\n",
    "            if (epoch + 1) % 2 == 0:\n",
    "                print(stage, \"---\", 'Accuracy: %.3f  Loss: %.3f' % (epoch_acc,  epoch_loss))\n",
    "\n",
    "            run_loss = 0.0\n",
    "            run_correct = 0\n",
    "            \n",
    "    return all_train_acc, all_train_loss, all_test_acc, all_test_loss"
   ]
  },
  {
   "cell_type": "code",
   "execution_count": 15,
   "metadata": {},
   "outputs": [
    {
     "name": "stdout",
     "output_type": "stream",
     "text": [
      "Epoch 2 / 10\n",
      "train --- Accuracy: 0.827  Loss: 0.008\n",
      "test --- Accuracy: 0.667  Loss: 0.010\n",
      "Epoch 4 / 10\n",
      "train --- Accuracy: 0.931  Loss: 0.006\n",
      "test --- Accuracy: 0.724  Loss: 0.009\n",
      "Epoch 6 / 10\n",
      "train --- Accuracy: 0.971  Loss: 0.005\n",
      "test --- Accuracy: 0.742  Loss: 0.009\n",
      "Epoch 8 / 10\n",
      "train --- Accuracy: 0.985  Loss: 0.005\n",
      "test --- Accuracy: 0.714  Loss: 0.009\n",
      "Epoch 10 / 10\n",
      "train --- Accuracy: 0.978  Loss: 0.005\n",
      "test --- Accuracy: 0.716  Loss: 0.009\n"
     ]
    }
   ],
   "source": [
    "gru_train_acc, gru_all_train_loss, gru_all_test_acc, gru_all_test_loss = train_model(gru_model, train_loader,\n",
    "                                                                                     test_loader, gru_sgd,\n",
    "                                                                                     gru_cross_entro, 10)"
   ]
  },
  {
   "cell_type": "code",
   "execution_count": 16,
   "metadata": {},
   "outputs": [
    {
     "data": {
      "image/png": "[encoded data removed]",
      "text/plain": [
       "<Figure size 576x432 with 1 Axes>"
      ]
     },
     "metadata": {
      "needs_background": "light"
     },
     "output_type": "display_data"
    }
   ],
   "source": [
    "plt.figure(figsize = (8,6))\n",
    "plt.plot(np.arange(len(gru_all_test_acc)), gru_all_test_acc)\n",
    "_ = plt.title(\"TEST DATA ACCURACY with GRU\")\n",
    "_ = plt.xlabel(\"Epochs\")\n",
    "_ = plt.ylabel(\"Test Accuracy\")"
   ]
  },
  {
   "cell_type": "markdown",
   "metadata": {},
   "source": [
    "### Further testing on testset with GRU to see where it went wrong"
   ]
  },
  {
   "cell_type": "code",
   "execution_count": 17,
   "metadata": {},
   "outputs": [],
   "source": [
    "# Predict the test set, storing the data to revert to sentenses\n",
    "gru_model.eval()\n",
    "gru_data = []\n",
    "gru_p = []\n",
    "gru_true = []\n",
    "for i, data in enumerate(test_loader, 0):\n",
    "    inputs, labels = data[0].to(gpu_device), data[1].to(gpu_device)\n",
    "    gru_data.append(inputs)\n",
    "    gru_p.append(gru_model.predict(inputs))\n",
    "    gru_true.append(labels)"
   ]
  },
  {
   "cell_type": "code",
   "execution_count": 18,
   "metadata": {},
   "outputs": [
    {
     "data": {
      "text/plain": [
       "tensor(1, device='cuda:0')"
      ]
     },
     "execution_count": 18,
     "metadata": {},
     "output_type": "execute_result"
    }
   ],
   "source": [
    "torch.sum(gru_p[5][5] == gru_true[5][5])"
   ]
  },
  {
   "cell_type": "code",
   "execution_count": 19,
   "metadata": {},
   "outputs": [
    {
     "data": {
      "text/plain": [
       "tensor(1, device='cuda:0')"
      ]
     },
     "execution_count": 19,
     "metadata": {},
     "output_type": "execute_result"
    }
   ],
   "source": [
    "gru_true[5][5]"
   ]
  },
  {
   "cell_type": "code",
   "execution_count": 20,
   "metadata": {},
   "outputs": [
    {
     "data": {
      "text/plain": [
       "'Hey what do you expect form a very low budget movie Although I havent seen 2002 I can say that following what the media put out about Jeff this is a pretty accurate depiction I have studied the Jeffrey case and learned all I can about this man This is a low budget movie but it shows the mentality of a serial killer If you can get past gore and see what the underlying story of a sick mind I loved this movie Just brace yourself for low budget and no blood Its a story as seen through the eyes of a killer and his actions and thoughts from childhood up through his arrest My favorite line is If they had bothered to look in the back seat it might have saved a lot of lives Enjoy'"
      ]
     },
     "execution_count": 20,
     "metadata": {},
     "output_type": "execute_result"
    }
   ],
   "source": [
    "revert_sentence(gru_data[5][5])"
   ]
  },
  {
   "cell_type": "markdown",
   "metadata": {},
   "source": [
    "## Part 3 - Comparison with a MLP (5 points)"
   ]
  },
  {
   "cell_type": "code",
   "execution_count": 21,
   "metadata": {},
   "outputs": [],
   "source": [
    "class mlp(nn.Module):\n",
    "    def __init__(self):\n",
    "        super(mlp, self).__init__()\n",
    "        self.fc1 = nn.Linear(400, 128)\n",
    "        self.fc2 = nn.Linear(128, 64)\n",
    "        self.relu = torch.nn.ReLU()\n",
    "        \n",
    "    def forward(self, x):\n",
    "        out = self.relu(self.fc1(x))\n",
    "        out = self.relu(self.fc2(out))\n",
    "        return out\n",
    "    \n",
    "    def predict(self, x):\n",
    "        out = self.forward(x)\n",
    "        _, preds = torch.max(out, 1)\n",
    "        return preds"
   ]
  },
  {
   "cell_type": "code",
   "execution_count": 22,
   "metadata": {},
   "outputs": [
    {
     "data": {
      "text/plain": [
       "mlp(\n",
       "  (fc1): Linear(in_features=400, out_features=128, bias=True)\n",
       "  (fc2): Linear(in_features=128, out_features=64, bias=True)\n",
       "  (relu): ReLU()\n",
       ")"
      ]
     },
     "execution_count": 22,
     "metadata": {},
     "output_type": "execute_result"
    }
   ],
   "source": [
    "# Create mlp model\n",
    "mlp_model = mlp()\n",
    "mlp_model.to(gpu_device)"
   ]
  },
  {
   "cell_type": "code",
   "execution_count": 23,
   "metadata": {},
   "outputs": [],
   "source": [
    "# Set the cross-entrophy criterion\n",
    "mlp_cross_entro = nn.CrossEntropyLoss()\n",
    "\n",
    "# Observe that all parameters are being optimized\n",
    "mlp_sgd = optim.Adam(mlp_model.parameters(), lr = 0.01)"
   ]
  },
  {
   "cell_type": "code",
   "execution_count": 24,
   "metadata": {},
   "outputs": [],
   "source": [
    "# Need tensor double intead of tensor long for this\n",
    "train_data_d = TensorDataset(torch.from_numpy(training_vec).type(torch.FloatTensor),\n",
    "                           torch.from_numpy(training_label).type(torch.LongTensor))\n",
    "train_loader_d = DataLoader(train_data_d, shuffle = True, batch_size = 64)\n",
    "\n",
    "test_data_d = TensorDataset(torch.from_numpy(testing_vec).type(torch.FloatTensor),\n",
    "                          torch.from_numpy(testing_label).type(torch.LongTensor))\n",
    "test_loader_d = DataLoader(test_data_d, shuffle = True, batch_size = 64)"
   ]
  },
  {
   "cell_type": "code",
   "execution_count": 25,
   "metadata": {},
   "outputs": [
    {
     "name": "stdout",
     "output_type": "stream",
     "text": [
      "Epoch 2 / 10\n",
      "train --- Accuracy: 0.546  Loss: 0.143\n",
      "test --- Accuracy: 0.502  Loss: 0.092\n",
      "Epoch 4 / 10\n",
      "train --- Accuracy: 0.586  Loss: 0.042\n",
      "test --- Accuracy: 0.504  Loss: 0.094\n",
      "Epoch 6 / 10\n",
      "train --- Accuracy: 0.593  Loss: 0.058\n",
      "test --- Accuracy: 0.501  Loss: 0.073\n",
      "Epoch 8 / 10\n",
      "train --- Accuracy: 0.617  Loss: 0.041\n",
      "test --- Accuracy: 0.500  Loss: 0.081\n",
      "Epoch 10 / 10\n",
      "train --- Accuracy: 0.599  Loss: 0.035\n",
      "test --- Accuracy: 0.499  Loss: 0.065\n"
     ]
    }
   ],
   "source": [
    "mlp_train_acc, mlp_all_train_loss, mlp_all_test_acc, mlp_all_test_loss = train_model(mlp_model, train_loader_d,\n",
    "                                                                                     test_loader_d, mlp_sgd,\n",
    "                                                                                     mlp_cross_entro, 10)"
   ]
  }
 ],
 "metadata": {
  "kernelspec": {
   "display_name": "Python 3",
   "language": "python",
   "name": "python3"
  },
  "language_info": {
   "codemirror_mode": {
    "name": "ipython",
    "version": 3
   },
   "file_extension": ".py",
   "mimetype": "text/x-python",
   "name": "python",
   "nbconvert_exporter": "python",
   "pygments_lexer": "ipython3",
   "version": "3.7.6"
  }
 },
 "nbformat": 4,
 "nbformat_minor": 4
}
