{
 "cells": [
  {
   "cell_type": "markdown",
   "metadata": {},
   "source": [
    "# Problem 2 - Implementing a Softmax Classifer"
   ]
  },
  {
   "cell_type": "markdown",
   "metadata": {},
   "source": [
    "### Part 1"
   ]
  },
  {
   "cell_type": "code",
   "execution_count": 1,
   "metadata": {},
   "outputs": [],
   "source": [
    "import numpy as np\n",
    "from random import shuffle\n",
    "from sklearn import preprocessing"
   ]
  },
  {
   "cell_type": "code",
   "execution_count": 2,
   "metadata": {},
   "outputs": [],
   "source": [
    "# Function to load data\n",
    "def load_data(path):\n",
    "    data = np.loadtxt(path)\n",
    "    return data[:, 0], data[:, 1:]"
   ]
  },
  {
   "cell_type": "code",
   "execution_count": 3,
   "metadata": {},
   "outputs": [],
   "source": [
    "iris_train_labels, iris_train_data = load_data(\"iris-train.txt\")\n",
    "iris_test_labels, iris_test_data = load_data(\"iris-test.txt\")"
   ]
  },
  {
   "cell_type": "code",
   "execution_count": 4,
   "metadata": {},
   "outputs": [],
   "source": [
    "# One-hot function to make the labels into one-hot vector\n",
    "def iris_one_hot(labels):\n",
    "    one_hot_labels = np.zeros((len(labels), 3))\n",
    "    for i in range(len(labels)):\n",
    "        one_hot_labels[i][int(labels[i]) - 1] = 1\n",
    "    return one_hot_labels"
   ]
  },
  {
   "cell_type": "code",
   "execution_count": 5,
   "metadata": {},
   "outputs": [],
   "source": [
    "# Function to normalize the features of the data\n",
    "def normalize(train_data, test_data):\n",
    "    # normalize between -1 and 1 with minmaxscaler\n",
    "    scaler = preprocessing.MinMaxScaler(feature_range = (-1, 1))\n",
    "    train_data_nor = scaler.fit_transform(train_data)\n",
    "    test_data_nor = scaler.transform(test_data)\n",
    "    return train_data_nor, test_data_nor"
   ]
  },
  {
   "cell_type": "code",
   "execution_count": 6,
   "metadata": {},
   "outputs": [],
   "source": [
    "# Function to normalize the features of the data\n",
    "def normalize_2(train_data, test_data):\n",
    "    # normalize between -1 and 1 with minmaxscaler\n",
    "    return 2 * (train_data - 0.5), 2 * (test_data - 0.5)"
   ]
  },
  {
   "cell_type": "code",
   "execution_count": 7,
   "metadata": {},
   "outputs": [],
   "source": [
    "# Forward pass function\n",
    "def forward(x, weight):\n",
    "    return np.dot(np.array(x), np.array(weight))"
   ]
  },
  {
   "cell_type": "code",
   "execution_count": 8,
   "metadata": {},
   "outputs": [],
   "source": [
    "# Softmax function\n",
    "def softmax(output_list):\n",
    "    exp_output_list = np.exp(output_list - np.max(output_list))\n",
    "    return exp_output_list/(np.sum(exp_output_list, axis = 1, keepdims = True) + 1e-15)"
   ]
  },
  {
   "cell_type": "code",
   "execution_count": 9,
   "metadata": {},
   "outputs": [],
   "source": [
    "# Cross-entropy loss Function\n",
    "def cross_entropy(data, pred, true_labels, weights, l2_weight_decay_factor):\n",
    "    # With L2 regularization\n",
    "    data = np.stack(data, axis=0)\n",
    "    loss = np.sum((- np.array(true_labels) * np.log(pred + 1e-15)))/len(true_labels) + l2_weight_decay_factor * np.linalg.norm(weights, 2)/2\n",
    "    loss_grad = pred.copy()\n",
    "    loss_grad = loss_grad - true_labels\n",
    "    loss_grad = np.dot(data.T, loss_grad)\n",
    "    loss_grad = loss_grad/len(true_labels)\n",
    "    return loss, loss_grad"
   ]
  },
  {
   "cell_type": "code",
   "execution_count": 10,
   "metadata": {},
   "outputs": [],
   "source": [
    "# Function to compute mean per-class accuracy\n",
    "def computeMPC(pred, true_labels):\n",
    "    prediction = np.zeros_like(pred)\n",
    "    prediction[np.arange(len(pred)), pred.argmax(1)] = 1\n",
    "    return np.sum(~(true_labels - prediction).any(1))/len(pred)"
   ]
  },
  {
   "cell_type": "code",
   "execution_count": 11,
   "metadata": {},
   "outputs": [],
   "source": [
    "# Function to do stochastic gradient descent with mini-batches and momentum\n",
    "def single_stochastic_gradient(train_data, train_labels, test_data, test_labels, weights, mini_batch_size, learning_rate, momentum_rate, l2_weight_decay_factor):\n",
    "    train_zip = list(zip(train_data, train_labels))\n",
    "    shuffle(train_zip)\n",
    "    train_data_shuff, train_labels_shuff = zip(*train_zip)\n",
    "    \n",
    "    test_zip = list(zip(test_data, test_labels))\n",
    "    shuffle(test_zip)\n",
    "    test_data_shuff, test_labels_shuff = zip(*test_zip)\n",
    "    \n",
    "    iter_num = len(train_data)//mini_batch_size\n",
    "    prev_grad = 0\n",
    "    \n",
    "    loss = 0\n",
    "    for i in range(iter_num):\n",
    "        new_pred = forward(train_data_shuff[i * mini_batch_size:(i + 1) * mini_batch_size], weights)\n",
    "        new_p = softmax(new_pred)\n",
    "        new_loss, new_loss_grad = cross_entropy(train_data_shuff[i * mini_batch_size:(i + 1) * mini_batch_size], new_p, train_labels_shuff[i * mini_batch_size:(i + 1) * mini_batch_size], weights, l2_weight_decay_factor)\n",
    "        loss = loss + new_loss\n",
    "        # Find new weights\n",
    "        weights = weights - momentum_rate * prev_grad - learning_rate * new_loss_grad\n",
    "        prev_grad = new_loss_grad\n",
    "        \n",
    "    # For training data\n",
    "    new_pred = forward(train_data_shuff, weights)\n",
    "    new_p = softmax(new_pred)\n",
    "    epoch_acc = computeMPC(new_p, train_labels_shuff)\n",
    "    # For testing data\n",
    "    test_new_pred = forward(test_data_shuff, weights)\n",
    "    test_new_p = softmax(test_new_pred)\n",
    "    test_loss, _ = cross_entropy(test_data_shuff, test_new_p, test_labels_shuff, weights, l2_weight_decay_factor)\n",
    "    test_epoch_acc = computeMPC(test_new_p, test_labels_shuff)\n",
    "    return epoch_acc, test_epoch_acc, weights, loss/iter_num, test_loss"
   ]
  },
  {
   "cell_type": "code",
   "execution_count": 12,
   "metadata": {},
   "outputs": [],
   "source": [
    "# Returns the learned weights, the mean per class accuracy for each epoch for train and test,\n",
    "# loss for each epoch for train and test\n",
    "def train_softmax(train_data, train_labels, test_data, test_labels, weights, mini_batch_size, learning_rate, momentum_rate, l2_weight_decay_factor, num_epochs):\n",
    "    epoch_acc_list = []\n",
    "    test_epoch_acc_list = []\n",
    "    loss_list = []\n",
    "    test_loss_list = []\n",
    "    for i in range(num_epochs):\n",
    "        epoch_acc, test_epoch_acc, weights, loss, test_loss = single_stochastic_gradient(train_data, train_labels, test_data, test_labels, weights, mini_batch_size, learning_rate, momentum_rate, l2_weight_decay_factor)\n",
    "        epoch_acc_list.append(epoch_acc)\n",
    "        test_epoch_acc_list.append(test_epoch_acc)\n",
    "        loss_list.append(loss)\n",
    "        test_loss_list.append(test_loss)\n",
    "    return epoch_acc_list, test_epoch_acc_list, weights, loss_list, test_loss_list"
   ]
  },
  {
   "cell_type": "code",
   "execution_count": 13,
   "metadata": {},
   "outputs": [],
   "source": [
    "# Function to create the single layer neural network for softmax classifier\n",
    "def main_iris(train_file_path, test_file_path, param, num_epochs = 1000):\n",
    "    # param = (Mini-batch size, learning rate, momentum rate, and L2 weight decay factor)\n",
    "    mini_batch_size, learning_rate, momentum_rate, l2_weight_decay_factor = param\n",
    "    \n",
    "    iris_train_labels, iris_train_data = load_data(train_file_path)\n",
    "    iris_test_labels, iris_test_data = load_data(test_file_path)\n",
    "    iris_train_data_normalized, iris_test_data_normalized = normalize(iris_train_data, iris_test_data)\n",
    "    iris_train_labels_hot = iris_one_hot(iris_train_labels)\n",
    "    iris_test_labels_hot = iris_one_hot(iris_test_labels)\n",
    "    \n",
    "    # Initialize random weights\n",
    "    weights = np.random.random((2,3))\n",
    "    \n",
    "    epoch_acc_list, test_epoch_acc_list, weights, loss_list, test_lost_list = train_softmax(iris_train_data_normalized, iris_train_labels_hot, iris_test_data_normalized, iris_test_labels_hot, weights, mini_batch_size, learning_rate, momentum_rate, l2_weight_decay_factor, num_epochs)\n",
    "    \n",
    "    return epoch_acc_list, test_epoch_acc_list, weights, loss_list, test_lost_list"
   ]
  },
  {
   "cell_type": "code",
   "execution_count": 14,
   "metadata": {},
   "outputs": [],
   "source": [
    "# Adjusting the hyperparam manually\n",
    "# (Mini-batch size, learning rate, momentum rate, and L2 weight decay factor)\n",
    "param = (10, 0.01, 0.005, 0.10)\n",
    "epoch_acc_list, test_epoch_acc_list, weights, loss_list, test_loss_list = main_iris(\"iris-train.txt\", \"iris-test.txt\", param, 1000)"
   ]
  },
  {
   "cell_type": "code",
   "execution_count": 15,
   "metadata": {},
   "outputs": [],
   "source": [
    "import matplotlib.pyplot as plt\n",
    "%matplotlib inline"
   ]
  },
  {
   "cell_type": "code",
   "execution_count": 16,
   "metadata": {},
   "outputs": [
    {
     "data": {
      "image/png": "[encoded data removed]",
      "text/plain": [
       "<Figure size 1080x432 with 2 Axes>"
      ]
     },
     "metadata": {
      "needs_background": "light"
     },
     "output_type": "display_data"
    }
   ],
   "source": [
    "f, (ax1, ax2) = plt.subplots(1, 2)\n",
    "f.set_figheight(6)\n",
    "f.set_figwidth(15)\n",
    "_ = ax1.plot(np.arange(len(epoch_acc_list)), epoch_acc_list)\n",
    "_ = ax1.plot(np.arange(len(test_epoch_acc_list)), test_epoch_acc_list)\n",
    "_ = ax1.legend(['train', 'test'])\n",
    "_ = ax1.set_title(\"Mean Per-Class Accuracy\")\n",
    "_ = ax1.set_xlabel(\"Epochs\")\n",
    "_ = ax1.set_ylabel(\"Accuracy\")\n",
    "\n",
    "_ = ax2.plot(np.arange(len(loss_list)), loss_list)\n",
    "_ = ax2.plot(np.arange(len(loss_list)), test_loss_list)\n",
    "_ = ax2.legend(['train', 'test'])\n",
    "_ = ax2.set_title(\"Cross-entropy loss with L2 weight decay regularization\")\n",
    "_ = ax2.set_xlabel(\"Epochs\")\n",
    "_ = ax2.set_ylabel(\"Loss\")"
   ]
  },
  {
   "cell_type": "code",
   "execution_count": 17,
   "metadata": {},
   "outputs": [
    {
     "data": {
      "text/plain": [
       "array([[-0.80620931,  1.23603275,  0.97700969],\n",
       "       [-3.28893015,  1.5392253 ,  4.23647836]])"
      ]
     },
     "execution_count": 17,
     "metadata": {},
     "output_type": "execute_result"
    }
   ],
   "source": [
    "weights"
   ]
  },
  {
   "cell_type": "code",
   "execution_count": 18,
   "metadata": {},
   "outputs": [
    {
     "data": {
      "text/plain": [
       "0.8823529411764706"
      ]
     },
     "execution_count": 18,
     "metadata": {},
     "output_type": "execute_result"
    }
   ],
   "source": [
    "max(test_epoch_acc_list)"
   ]
  },
  {
   "cell_type": "markdown",
   "metadata": {},
   "source": [
    "### Part 2"
   ]
  },
  {
   "cell_type": "code",
   "execution_count": 19,
   "metadata": {},
   "outputs": [],
   "source": [
    "import matplotlib.patches as mps"
   ]
  },
  {
   "cell_type": "code",
   "execution_count": 20,
   "metadata": {},
   "outputs": [],
   "source": [
    "# Load data\n",
    "iris_train_labels, iris_train_data = load_data(\"iris-train.txt\")\n",
    "iris_test_labels, iris_test_data = load_data(\"iris-test.txt\")\n",
    "iris_train_data_normalized, iris_test_data_normalized = normalize(iris_train_data, iris_test_data)"
   ]
  },
  {
   "cell_type": "code",
   "execution_count": 21,
   "metadata": {},
   "outputs": [],
   "source": [
    "# Create grid\n",
    "x, y = np.meshgrid(np.arange(-1.2, 1.2, 0.01), np.arange(-1.2, 1.2, 0.01))\n",
    "all_coor = np.c_[x.ravel(), y.ravel()]\n",
    "\n",
    "# Predict\n",
    "train_pred = softmax(forward(all_coor, weights))\n",
    "train_p = train_pred.argmax(1)\n",
    "pic_p = train_p.reshape(x.shape)"
   ]
  },
  {
   "cell_type": "code",
   "execution_count": 22,
   "metadata": {},
   "outputs": [
    {
     "data": {
      "image/png": "[encoded data removed]",
      "text/plain": [
       "<Figure size 576x576 with 1 Axes>"
      ]
     },
     "metadata": {
      "needs_background": "light"
     },
     "output_type": "display_data"
    }
   ],
   "source": [
    "_ = plt.figure(figsize = (8, 8))\n",
    "_ = plt.contourf(x, y, pic_p, cmap = plt.cm.Spectral, alpha = 0.8)\n",
    "patch_1 = mps.Patch(color = 'red', label='1')\n",
    "patch_2 = mps.Patch(color = 'yellow', label='2')\n",
    "patch_3 = mps.Patch(color = 'blue', label='3')\n",
    "_ = plt.legend(handles=[patch_1, patch_2, patch_3])\n",
    "_ = plt.scatter(iris_train_data_normalized[:,0], iris_train_data_normalized[:,1], c = iris_train_labels, cmap = plt.cm.Spectral, edgecolor='k')\n",
    "_ = plt.title(\"Displaying Decision Boundaries\")"
   ]
  }
 ],
 "metadata": {
  "kernelspec": {
   "display_name": "Python 3",
   "language": "python",
   "name": "python3"
  },
  "language_info": {
   "codemirror_mode": {
    "name": "ipython",
    "version": 3
   },
   "file_extension": ".py",
   "mimetype": "text/x-python",
   "name": "python",
   "nbconvert_exporter": "python",
   "pygments_lexer": "ipython3",
   "version": "3.7.6"
  }
 },
 "nbformat": 4,
 "nbformat_minor": 4
}
